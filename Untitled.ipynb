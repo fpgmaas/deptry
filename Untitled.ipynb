{
 "cells": [
  {
   "cell_type": "code",
   "execution_count": 1,
   "id": "e3e7ce23-a0df-497d-8e97-abfd51099c7a",
   "metadata": {},
   "outputs": [],
   "source": [
    "%load_ext autoreload \n",
    "%autoreload 2"
   ]
  },
  {
   "cell_type": "code",
   "execution_count": null,
   "id": "e7334e9f-7dc2-449c-aa51-9b2150f05f78",
   "metadata": {},
   "outputs": [],
   "source": [
    "class RequirementsTxtDependencyGetter:\n",
    "    \n",
    "    def __init__(self, dev: bool = False) -> None:\n",
    "        self.dev = dev\n",
    "\n",
    "    def get(self):\n",
    "        if self.dev:\n",
    "            pyproject_toml_dependencies = self._get_requirements_txt_dev_dependencies()\n",
    "        else:\n",
    "            pyproject_toml_dependencies = self._get_requirements_txt_dependencies()\n",
    "            \n",
    "    "
   ]
  },
  {
   "cell_type": "code",
   "execution_count": 121,
   "id": "cd010083-d777-4224-acf2-03e52a0ac803",
   "metadata": {},
   "outputs": [
    {
     "name": "stderr",
     "output_type": "stream",
     "text": [
      "WARNING:root:Warning: Package 'colorama' not found in current environment. Assuming its corresponding module name is 'colorama'.\n",
      "WARNING:root:Warning: Package 'typing-extensions' not found in current environment. Assuming its corresponding module name is 'typing_extensions'.\n",
      "WARNING:root:Warning: Package 'SomeProject' not found in current environment. Assuming its corresponding module name is 'someproject'.\n",
      "WARNING:root:Warning: Package 'SomeProject' not found in current environment. Assuming its corresponding module name is 'someproject'.\n",
      "WARNING:root:Warning: Package 'SomeProject' not found in current environment. Assuming its corresponding module name is 'someproject'.\n",
      "WARNING:root:Warning: Package 'SomeProject' not found in current environment. Assuming its corresponding module name is 'someproject'.\n",
      "WARNING:root:Warning: Package 'SomeProject' not found in current environment. Assuming its corresponding module name is 'someproject'.\n",
      "WARNING:root:Warning: Package 'SomeProject' (conditional) not found in current environment. Assuming its corresponding module name is 'someproject'.\n",
      "WARNING:root:Warning: Package 'SomeProject' (conditional) not found in current environment. Assuming its corresponding module name is 'someproject'.\n",
      "WARNING:root:Warning: Package 'pytest' not found in current environment. Assuming its corresponding module name is 'pytest'.\n",
      "WARNING:root:Warning: Package 'pytest-cov' not found in current environment. Assuming its corresponding module name is 'pytest_cov'.\n",
      "WARNING:root:Warning: Package 'docopt' not found in current environment. Assuming its corresponding module name is 'docopt'.\n"
     ]
    },
    {
     "name": "stdout",
     "output_type": "stream",
     "text": [
      "Dependency 'click' with top-levels: {'click'}.\n",
      "Dependency 'colorama' with top-levels: {'colorama'}.\n",
      "Dependency 'importlib-metadata' (conditional) with top-levels: {'importlib_metadata'}.\n",
      "Dependency 'isort' with top-levels: {'isort'}.\n",
      "Dependency 'toml' with top-levels: {'toml'}.\n",
      "Dependency 'typing-extensions' with top-levels: {'typing_extensions'}.\n",
      "Dependency 'zipp' with top-levels: {'zipp'}.\n",
      "Dependency 'SomeProject' with top-levels: {'someproject'}.\n",
      "Dependency 'SomeProject' with top-levels: {'someproject'}.\n",
      "Dependency 'SomeProject' with top-levels: {'someproject'}.\n",
      "Dependency 'SomeProject' with top-levels: {'someproject'}.\n",
      "Dependency 'SomeProject' with top-levels: {'someproject'}.\n",
      "Dependency 'SomeProject' (conditional) with top-levels: {'someproject'}.\n",
      "Dependency 'SomeProject' (conditional) with top-levels: {'someproject'}.\n",
      "Dependency 'requests' (optional, conditional) with top-levels: {'requests'}.\n",
      "Dependency 'pytest' with top-levels: {'pytest'}.\n",
      "Dependency 'pytest-cov' with top-levels: {'pytest_cov'}.\n",
      "Dependency 'beautifulsoup4' with top-levels: {'bs4', 'beautifulsoup4', 'bs4/builder', 'bs4/tests'}.\n",
      "Dependency 'docopt' with top-levels: {'docopt'}.\n",
      "Dependency 'requests' (optional, conditional) with top-levels: {'requests'}.\n",
      "Dependency 'urllib3' with top-levels: {'urllib3'}.\n"
     ]
    }
   ],
   "source": [
    "from deptry.requirements_txt_dependency_getter import RequirementsTxtDependencyGetter\n",
    "deps = RequirementsTxtDependencyGetter().get()\n",
    "print('\\n'.join([str(dep) for dep in deps]))"
   ]
  },
  {
   "cell_type": "code",
   "execution_count": 111,
   "id": "63439097-ce9a-463d-9afd-0e96a3eab14c",
   "metadata": {},
   "outputs": [],
   "source": [
    "import re\n",
    "with open('requirements.txt') as f:\n",
    "    data = f.readlines()\n",
    "\n",
    "for line in data:\n",
    "    line = _remove_comments_from(line)\n",
    "    line = _remove_newlines_from(line)\n",
    "    name = _find_dependency_name_in(line)\n",
    "    if name:\n",
    "        line = line.replace(name,'')\n",
    "        optional = _check_if_dependency_is_optional(line)\n",
    "        conditional = _check_if_dependency_is_conditional(line)"
   ]
  },
  {
   "cell_type": "code",
   "execution_count": 123,
   "id": "cc493710-c354-42ec-b818-63358bba0641",
   "metadata": {},
   "outputs": [
    {
     "ename": "NameError",
     "evalue": "name 'os' is not defined",
     "output_type": "error",
     "traceback": [
      "\u001b[0;31m---------------------------------------------------------------------------\u001b[0m",
      "\u001b[0;31mNameError\u001b[0m                                 Traceback (most recent call last)",
      "Input \u001b[0;32mIn [123]\u001b[0m, in \u001b[0;36m<cell line: 1>\u001b[0;34m()\u001b[0m\n\u001b[0;32m----> 1\u001b[0m \u001b[43mos\u001b[49m\u001b[38;5;241m.\u001b[39mlistdir()\n",
      "\u001b[0;31mNameError\u001b[0m: name 'os' is not defined"
     ]
    }
   ],
   "source": [
    "['dev-requirements.txt']"
   ]
  },
  {
   "cell_type": "code",
   "execution_count": 101,
   "id": "1a524824-9c28-4ea5-b0f5-0e1917095b08",
   "metadata": {},
   "outputs": [
    {
     "data": {
      "text/plain": [
       "[]"
      ]
     },
     "execution_count": 101,
     "metadata": {},
     "output_type": "execute_result"
    }
   ],
   "source": [
    "re.findall(r'\\[(.*?)\\]','[security >= 2.8.1, == 2.8.* ; python_version < \"2.7\"')"
   ]
  },
  {
   "cell_type": "code",
   "execution_count": 65,
   "id": "028d4afa-7b84-4101-ab32-8d02f7780e79",
   "metadata": {},
   "outputs": [
    {
     "data": {
      "text/plain": [
       "'click==8.1.3 #123asd'"
      ]
     },
     "execution_count": 65,
     "metadata": {},
     "output_type": "execute_result"
    }
   ],
   "source": [
    "_remove_comments_from_line(data[0])"
   ]
  },
  {
   "cell_type": "code",
   "execution_count": 66,
   "id": "cb2d0c38-3e13-4d3d-b78f-206f3b95d908",
   "metadata": {},
   "outputs": [
    {
     "data": {
      "text/plain": [
       "'click==8.1.3 #123asd\\n'"
      ]
     },
     "execution_count": 66,
     "metadata": {},
     "output_type": "execute_result"
    }
   ],
   "source": [
    "data[0]"
   ]
  },
  {
   "cell_type": "code",
   "execution_count": 59,
   "id": "bfbc5865-461f-484d-9928-4ea86f44326b",
   "metadata": {},
   "outputs": [
    {
     "data": {
      "text/plain": [
       "'click==8.1.3'"
      ]
     },
     "execution_count": 59,
     "metadata": {},
     "output_type": "execute_result"
    }
   ],
   "source": []
  },
  {
   "cell_type": "code",
   "execution_count": null,
   "id": "a68f4b13-5f3f-4b9c-858e-e69d0fd1a302",
   "metadata": {},
   "outputs": [],
   "source": []
  }
 ],
 "metadata": {
  "kernelspec": {
   "display_name": "Python 3 (ipykernel)",
   "language": "python",
   "name": "python3"
  },
  "language_info": {
   "codemirror_mode": {
    "name": "ipython",
    "version": 3
   },
   "file_extension": ".py",
   "mimetype": "text/x-python",
   "name": "python",
   "nbconvert_exporter": "python",
   "pygments_lexer": "ipython3",
   "version": "3.9.11"
  }
 },
 "nbformat": 4,
 "nbformat_minor": 5
}
