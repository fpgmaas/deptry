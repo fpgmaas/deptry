{
 "cells": [
  {
   "cell_type": "code",
   "execution_count": 1,
   "id": "82635fab-73e8-42ca-a3b1-16a3f2b94cf5",
   "metadata": {},
   "outputs": [],
   "source": [
    "%load_ext autoreload\n",
    "%autoreload 2"
   ]
  },
  {
   "cell_type": "code",
   "execution_count": 12,
   "id": "843b17a4-ee12-4532-8659-c97e80460b4f",
   "metadata": {},
   "outputs": [],
   "source": [
    "import logging\n",
    "from typing import List\n",
    "\n",
    "from deptry.dependency import Dependency\n",
    "from deptry.utils import load_pyproject_toml\n",
    "\n",
    "\n",
    "class DependencyGetter:\n",
    "    \"\"\"\n",
    "    Class to get a project's list of dependencies from pyproject.toml.\n",
    "\n",
    "    Args:\n",
    "        dev (bool): Read either the regular, or the dev dependencies, based on this argument.\n",
    "    \"\"\"\n",
    "\n",
    "    def __init__(self, dev: bool = False) -> None:\n",
    "        self.dev = dev\n",
    "\n",
    "    def get(self):\n",
    "        if self.dev:\n",
    "            pyproject_toml_dependencies = self._get_pyproject_toml_dev_dependencies()\n",
    "        else:\n",
    "            pyproject_toml_dependencies = self._get_pyproject_toml_dependencies()\n",
    "\n",
    "        dependencies = []\n",
    "        for dep, spec in pyproject_toml_dependencies.items():\n",
    "            if not dep == \"python\":\n",
    "                # if of the shape `tomli = { version = \"^2.0.1\", python = \"<3.11\" }`, mark as conditional.\n",
    "                if isinstance(spec, dict) and 'python' in spec.keys() and 'version' in spec.keys():\n",
    "                    dependencies.append(Dependency(dep, conditional = True))\n",
    "                else:\n",
    "                    dependencies.append(Dependency(dep))\n",
    "        self._log_dependencies(dependencies)\n",
    "        return dependencies\n",
    "\n",
    "    def _get_pyproject_toml_dependencies(self) -> List[str]:\n",
    "        pyproject_data = load_pyproject_toml()\n",
    "        dependencies = pyproject_data[\"tool\"][\"poetry\"][\"dependencies\"]\n",
    "        return dependencies\n",
    "\n",
    "    def _get_pyproject_toml_dev_dependencies(self) -> List[str]:\n",
    "        \"\"\"\n",
    "        These can be either under;\n",
    "\n",
    "        [tool.poetry.dev-dependencies]\n",
    "        [tool.poetry.group.dev.dependencies]\n",
    "\n",
    "        or both.\n",
    "        \"\"\"\n",
    "        dev_dependencies = {}\n",
    "        pyproject_data = load_pyproject_toml()\n",
    "        try:\n",
    "            dev_dependencies = {**pyproject_data[\"tool\"][\"poetry\"][\"dev-dependencies\"], **dev_dependencies}\n",
    "        except KeyError:\n",
    "            pass\n",
    "        try:\n",
    "            dev_dependencies = {**pyproject_data[\"tool\"][\"poetry\"][\"group\"][\"dev\"][\"dependencies\"], **dev_dependencies}\n",
    "        except KeyError:\n",
    "            pass\n",
    "        return sorted(dev_dependencies)\n",
    "\n",
    "    def _log_dependencies(self, dependencies: List[Dependency]) -> None:\n",
    "        logging.debug(f\"The project contains the following {'dev-' if self.dev else ''}dependencies:\")\n",
    "        for dependency in dependencies:\n",
    "            logging.debug(str(dependency))\n",
    "        logging.debug(\"\")\n",
    "    "
   ]
  },
  {
   "cell_type": "code",
   "execution_count": 13,
   "id": "8d9fce79-387c-4dce-8ff1-9be1173f86c3",
   "metadata": {},
   "outputs": [
    {
     "name": "stdout",
     "output_type": "stream",
     "text": [
      "Conditional dependency 'importlib-metadata' with top-levels: ['importlib_metadata'].\n"
     ]
    }
   ],
   "source": [
    "print(DependencyGetter().get()[3])"
   ]
  },
  {
   "cell_type": "code",
   "execution_count": 12,
   "id": "1eb333de-4650-4471-8f88-3a96c8dfb1c4",
   "metadata": {},
   "outputs": [],
   "source": [
    "dependencies = {'python': '>=3.7,<3.11', 'toml': '^0.10.2', 'isort': '^5.10.1', 'click': '^8.1.3', 'importlib-metadata': {'version': '*', 'python': '<=3.7'}}"
   ]
  },
  {
   "cell_type": "code",
   "execution_count": 16,
   "id": "028b4fad-edcf-49bc-9d62-f894a5785d75",
   "metadata": {},
   "outputs": [
    {
     "name": "stdout",
     "output_type": "stream",
     "text": [
      "y\n",
      "y\n",
      "y\n",
      "y\n",
      "h\n"
     ]
    }
   ],
   "source": [
    "for dependency, spec in dependencies.items():\n",
    "    if isinstance(spec,str):\n",
    "        print('y')\n",
    "    elif isinstance(spec, dict):\n",
    "        print('h')"
   ]
  },
  {
   "cell_type": "code",
   "execution_count": null,
   "id": "1d3fcf8b-79c5-4c87-bf54-6a6a8b38417d",
   "metadata": {},
   "outputs": [],
   "source": []
  }
 ],
 "metadata": {
  "kernelspec": {
   "display_name": "Python 3 (ipykernel)",
   "language": "python",
   "name": "python3"
  },
  "language_info": {
   "codemirror_mode": {
    "name": "ipython",
    "version": 3
   },
   "file_extension": ".py",
   "mimetype": "text/x-python",
   "name": "python",
   "nbconvert_exporter": "python",
   "pygments_lexer": "ipython3",
   "version": "3.9.11"
  }
 },
 "nbformat": 4,
 "nbformat_minor": 5
}
