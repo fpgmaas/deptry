{
 "cells": [
  {
   "cell_type": "code",
   "execution_count": 31,
   "id": "42cf196b-25e4-4463-b1be-9909f3285a16",
   "metadata": {},
   "outputs": [],
   "source": [
    "from deptry.dependency_getter.requirements_txt import RequirementsTxtDependencyGetter\n",
    "from deptry.dependency import Dependency\n",
    "import re"
   ]
  },
  {
   "cell_type": "code",
   "execution_count": 84,
   "id": "8d0ec73e-0bf0-4b15-af33-2241a91ecaeb",
   "metadata": {},
   "outputs": [],
   "source": [
    "def _extract_dependency_from_line(line: str) -> Dependency:\n",
    "    \"\"\"\n",
    "    Extract a dependency from a single line of a requirements.txt file.\n",
    "    \"\"\"\n",
    "    line = _remove_comments_from(line)\n",
    "    line = _remove_newlines_from(line)\n",
    "    name = _find_dependency_name_in(line)\n",
    "    print(f\"line: {line}, name: {name}\")\n",
    "    if name:\n",
    "        return Dependency(name=name)\n",
    "    else:\n",
    "        return None\n",
    "\n",
    "def _find_dependency_name_in(line):\n",
    "    \"\"\"\n",
    "    Find the dependency name of a dependency specified according to the pip-standards for requirement.txt\n",
    "    \"\"\"\n",
    "    if _line_is_url(line):\n",
    "        return _extract_name_from_url(line)\n",
    "    else:\n",
    "        match = re.search(\"^[^-][a-zA-Z0-9-_]+\", line)\n",
    "        if match:\n",
    "            return match.group(0)\n",
    "    return None\n",
    "\n",
    "def _remove_comments_from(line):\n",
    "    return re.sub(r\"#.*\", \"\", line).strip()\n",
    "\n",
    "def _remove_newlines_from(line):\n",
    "    return line.replace(\"\\n\", \"\")\n",
    "\n",
    "def _line_is_url(line):\n",
    "    return re.search('^(http|https|git\\+https)',line)\n",
    "    \n",
    "def _extract_name_from_url(line):\n",
    "    if 'github.com' in line:\n",
    "        # for url like git+https://github.com/name/python-module.git@0d6dc38d58\n",
    "        match = re.search('\\/((?:(?!\\/).)*?)\\.git',line) \n",
    "        if match:\n",
    "            return match.group(1)\n",
    "            \n",
    "        # for url like https://github.com/urllib3/urllib3/archive/refs/tags/1.26.8.zip\n",
    "        match = re.search('\\/((?:(?!\\/).)*?)\\/archive\\/',line) \n",
    "        if match:\n",
    "            return match.group(1)\n",
    "        \n",
    "    logging.warning(f'Could not parse dependency name from url {line}')    \n",
    "    return None"
   ]
  },
  {
   "cell_type": "code",
   "execution_count": 85,
   "id": "1072b1df-32e9-40de-abf2-6d09e2bb000d",
   "metadata": {},
   "outputs": [],
   "source": [
    "req_txt = \"\"\"\n",
    "urllib3 @ https://github.com/urllib3/urllib3/archive/refs/tags/1.26.8.zip\n",
    "https://github.com/urllib3/urllib3/archive/refs/tags/1.26.8.zip\n",
    "git+https://github.com/sbywater/django-assets.git@0d6dc38d588e7607352b013da34a27f8a10abe81#egg=django-assets\n",
    "\"\"\"\n",
    "data = req_txt.split('\\n')"
   ]
  },
  {
   "cell_type": "code",
   "execution_count": 88,
   "id": "fb19b72b-4c17-451d-b25d-c00e5da872dc",
   "metadata": {},
   "outputs": [
    {
     "name": "stderr",
     "output_type": "stream",
     "text": [
      "WARNING:root:Warning: Package 'https' not found in current environment. Assuming its corresponding module name is 'https'.\n",
      "WARNING:root:Warning: Package 'git' not found in current environment. Assuming its corresponding module name is 'git'.\n"
     ]
    },
    {
     "name": "stdout",
     "output_type": "stream",
     "text": [
      "Dependency 'urllib3' with top-levels: {'urllib3'}.\n",
      "Dependency 'https' with top-levels: {'https'}.\n",
      "Dependency 'git' with top-levels: {'git'}.\n"
     ]
    }
   ],
   "source": [
    "deps = RequirementsTxtDependencyGetter().get()\n",
    "for dep in deps:\n",
    "    print(dep)"
   ]
  },
  {
   "cell_type": "code",
   "execution_count": 83,
   "id": "261d7c24-9158-43c4-85bd-a410b3742d1c",
   "metadata": {},
   "outputs": [
    {
     "data": {
      "text/plain": [
       "[Dependency 'urllib3']"
      ]
     },
     "execution_count": 83,
     "metadata": {},
     "output_type": "execute_result"
    }
   ],
   "source": [
    "dependencies"
   ]
  },
  {
   "cell_type": "code",
   "execution_count": null,
   "id": "46c604ca-d67c-4d72-9efb-93a1390cfe32",
   "metadata": {},
   "outputs": [],
   "source": []
  }
 ],
 "metadata": {
  "kernelspec": {
   "display_name": "Python 3 (ipykernel)",
   "language": "python",
   "name": "python3"
  },
  "language_info": {
   "codemirror_mode": {
    "name": "ipython",
    "version": 3
   },
   "file_extension": ".py",
   "mimetype": "text/x-python",
   "name": "python",
   "nbconvert_exporter": "python",
   "pygments_lexer": "ipython3",
   "version": "3.9.11"
  }
 },
 "nbformat": 4,
 "nbformat_minor": 5
}
