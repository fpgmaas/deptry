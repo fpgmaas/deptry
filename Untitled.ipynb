{
 "cells": [
  {
   "cell_type": "code",
   "execution_count": null,
   "id": "e3e7ce23-a0df-497d-8e97-abfd51099c7a",
   "metadata": {},
   "outputs": [],
   "source": [
    "%load_ext autoreload \n",
    "%autoreload 2"
   ]
  },
  {
   "cell_type": "code",
   "execution_count": null,
   "id": "e7334e9f-7dc2-449c-aa51-9b2150f05f78",
   "metadata": {},
   "outputs": [],
   "source": [
    "class RequirementsTxtDependencyGetter:\n",
    "    \n",
    "    def __init__(self, dev: bool = False) -> None:\n",
    "        self.dev = dev\n",
    "\n",
    "    def get(self):\n",
    "        if self.dev:\n",
    "            pyproject_toml_dependencies = self._get_requirements_txt_dev_dependencies()\n",
    "        else:\n",
    "            pyproject_toml_dependencies = self._get_requirements_txt_dependencies()\n",
    "            \n",
    "    "
   ]
  },
  {
   "cell_type": "code",
   "execution_count": null,
   "id": "cd010083-d777-4224-acf2-03e52a0ac803",
   "metadata": {},
   "outputs": [],
   "source": [
    "from deptry.requirements_txt_dependency_getter import RequirementsTxtDependencyGetter\n",
    "deps = RequirementsTxtDependencyGetter().get()\n",
    "print('\\n'.join([str(dep) for dep in deps]))"
   ]
  },
  {
   "cell_type": "code",
   "execution_count": null,
   "id": "63439097-ce9a-463d-9afd-0e96a3eab14c",
   "metadata": {},
   "outputs": [],
   "source": [
    "import re\n",
    "with open('requirements.txt') as f:\n",
    "    data = f.readlines()\n",
    "\n",
    "for line in data:\n",
    "    line = _remove_comments_from(line)\n",
    "    line = _remove_newlines_from(line)\n",
    "    name = _find_dependency_name_in(line)\n",
    "    if name:\n",
    "        line = line.replace(name,'')\n",
    "        optional = _check_if_dependency_is_optional(line)\n",
    "        conditional = _check_if_dependency_is_conditional(line)"
   ]
  },
  {
   "cell_type": "code",
   "execution_count": null,
   "id": "cc493710-c354-42ec-b818-63358bba0641",
   "metadata": {},
   "outputs": [],
   "source": [
    "['dev-requirements.txt']"
   ]
  },
  {
   "cell_type": "code",
   "execution_count": null,
   "id": "1a524824-9c28-4ea5-b0f5-0e1917095b08",
   "metadata": {},
   "outputs": [],
   "source": [
    "re.findall(r'\\[(.*?)\\]','[security >= 2.8.1, == 2.8.* ; python_version < \"2.7\"')"
   ]
  },
  {
   "cell_type": "code",
   "execution_count": null,
   "id": "028d4afa-7b84-4101-ab32-8d02f7780e79",
   "metadata": {},
   "outputs": [],
   "source": [
    "_remove_comments_from_line(data[0])"
   ]
  },
  {
   "cell_type": "code",
   "execution_count": null,
   "id": "cb2d0c38-3e13-4d3d-b78f-206f3b95d908",
   "metadata": {},
   "outputs": [],
   "source": [
    "data[0]"
   ]
  },
  {
   "cell_type": "code",
   "execution_count": null,
   "id": "bfbc5865-461f-484d-9928-4ea86f44326b",
   "metadata": {},
   "outputs": [],
   "source": []
  },
  {
   "cell_type": "code",
   "execution_count": null,
   "id": "a68f4b13-5f3f-4b9c-858e-e69d0fd1a302",
   "metadata": {},
   "outputs": [],
   "source": []
  }
 ],
 "metadata": {
  "kernelspec": {
   "display_name": "Python 3 (ipykernel)",
   "language": "python",
   "name": "python3"
  },
  "language_info": {
   "codemirror_mode": {
    "name": "ipython",
    "version": 3
   },
   "file_extension": ".py",
   "mimetype": "text/x-python",
   "name": "python",
   "nbconvert_exporter": "python",
   "pygments_lexer": "ipython3",
   "version": "3.9.11"
  }
 },
 "nbformat": 4,
 "nbformat_minor": 5
}
