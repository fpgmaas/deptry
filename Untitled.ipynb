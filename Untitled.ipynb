{
 "cells": [
  {
   "cell_type": "code",
   "execution_count": 1,
   "id": "3b1efd1f-ed3d-45bb-843b-1a774bcc9580",
   "metadata": {},
   "outputs": [],
   "source": [
    "%load_ext autoreload\n",
    "%autoreload 2"
   ]
  },
  {
   "cell_type": "code",
   "execution_count": 19,
   "id": "e128c1b2-622a-4885-a1bf-b617e8867568",
   "metadata": {},
   "outputs": [],
   "source": [
    "import os\n",
    "os.chdir('poetry-check-deps')"
   ]
  },
  {
   "cell_type": "code",
   "execution_count": 59,
   "id": "263a289c-b30d-4ed2-85a1-1e3ca3a66a95",
   "metadata": {},
   "outputs": [
    {
     "ename": "ModuleNotFoundError",
     "evalue": "No module named 'huts'",
     "output_type": "error",
     "traceback": [
      "\u001b[0;31m---------------------------------------------------------------------------\u001b[0m",
      "\u001b[0;31mModuleNotFoundError\u001b[0m                       Traceback (most recent call last)",
      "\u001b[0;32m/var/folders/7n/h0x5byjj1g365ccdn20tlxxh0000gp/T/ipykernel_5145/2300817825.py\u001b[0m in \u001b[0;36m<cell line: 9>\u001b[0;34m()\u001b[0m\n\u001b[1;32m      7\u001b[0m \u001b[0;32mfrom\u001b[0m \u001b[0mpathlib\u001b[0m \u001b[0;32mimport\u001b[0m \u001b[0mPath\u001b[0m\u001b[0;34m\u001b[0m\u001b[0;34m\u001b[0m\u001b[0m\n\u001b[1;32m      8\u001b[0m \u001b[0;32mimport\u001b[0m \u001b[0murllib3\u001b[0m\u001b[0;34m\u001b[0m\u001b[0;34m\u001b[0m\u001b[0m\n\u001b[0;32m----> 9\u001b[0;31m \u001b[0;32mimport\u001b[0m \u001b[0mhuts\u001b[0m\u001b[0;34m\u001b[0m\u001b[0;34m\u001b[0m\u001b[0m\n\u001b[0m",
      "\u001b[0;31mModuleNotFoundError\u001b[0m: No module named 'huts'"
     ]
    }
   ],
   "source": [
    "from deptry.dependency import Dependency\n",
    "from deptry.module import Module\n",
    "from deptry.dependency_getter import DependencyGetter\n",
    "from deptry.import_parser import ImportParser\n",
    "from deptry.obsolete_dependencies_finder import ObsoleteDependenciesFinder\n",
    "from deptry.python_file_finder import PythonFileFinder\n",
    "from pathlib import Path\n",
    "import urllib3\n",
    "import huts"
   ]
  },
  {
   "cell_type": "code",
   "execution_count": 69,
   "id": "3ec69900-4c60-4611-8f6a-c2119e5f27da",
   "metadata": {},
   "outputs": [],
   "source": [
    "dependencies = DependencyGetter().get()\n",
    "all_python_files = PythonFileFinder(\n",
    "    ignore_directories=['.venv','tests','docs'], ignore_notebooks=False\n",
    ").get_all_python_files_in(Path(\".\"))\n",
    "imported_modules = ImportParser().get_imported_modules_for_list_of_files(all_python_files)"
   ]
  },
  {
   "cell_type": "code",
   "execution_count": 70,
   "id": "ab90c9c0-2301-4e54-a33f-162bf84e6fe5",
   "metadata": {},
   "outputs": [],
   "source": [
    "# imported_modules = [Module(mod, dependencies) for mod in imported_modules]\n",
    "# [print(mod) for mod in imported_modules]"
   ]
  },
  {
   "cell_type": "code",
   "execution_count": 79,
   "id": "4fbbab02-d4f5-4a9c-aa80-bf5fbf3aa2ff",
   "metadata": {},
   "outputs": [
    {
     "data": {
      "text/plain": [
       "{'transitive_dependencies': ['deptry', 'urllib3'],\n",
       " 'missing_dependencies': ['huts']}"
      ]
     },
     "execution_count": 79,
     "metadata": {},
     "output_type": "execute_result"
    }
   ],
   "source": [
    "from deptry.missing_dependencies_finder import MissingDependenciesFinder\n",
    "MissingDependenciesFinder(imported_modules, dependencies).find()"
   ]
  },
  {
   "cell_type": "markdown",
   "id": "deff8e93-d4c3-459c-9fbe-da7be2d3b0a2",
   "metadata": {},
   "source": [
    "When is module missing?\n",
    "Either it's a transitive dependency or it's missing completely\n",
    "\n",
    "Missing completely -> Unknown source and not in top-level.\n",
    "transitive dependency -> Known source BUT not in dependencies."
   ]
  },
  {
   "cell_type": "code",
   "execution_count": 84,
   "id": "dba6cc22-a812-46e0-9ddf-f680314d8b06",
   "metadata": {},
   "outputs": [
    {
     "data": {
      "text/plain": [
       "False"
      ]
     },
     "execution_count": 84,
     "metadata": {},
     "output_type": "execute_result"
    }
   ],
   "source": [
    "from isort.stdlibs.py39 import stdlib\n",
    "'__future__' in stdlib"
   ]
  },
  {
   "cell_type": "code",
   "execution_count": 105,
   "id": "bf972fad-465c-4be7-a709-83e58ae0b49f",
   "metadata": {},
   "outputs": [
    {
     "data": {
      "text/plain": [
       "['deptry']"
      ]
     },
     "execution_count": 105,
     "metadata": {},
     "output_type": "execute_result"
    }
   ],
   "source": []
  },
  {
   "cell_type": "code",
   "execution_count": null,
   "id": "f3f0703d-2dc9-4674-8b43-653d30192525",
   "metadata": {},
   "outputs": [],
   "source": []
  }
 ],
 "metadata": {
  "kernelspec": {
   "display_name": "Python 3 (ipykernel)",
   "language": "python",
   "name": "python3"
  },
  "language_info": {
   "codemirror_mode": {
    "name": "ipython",
    "version": 3
   },
   "file_extension": ".py",
   "mimetype": "text/x-python",
   "name": "python",
   "nbconvert_exporter": "python",
   "pygments_lexer": "ipython3",
   "version": "3.9.11"
  }
 },
 "nbformat": 4,
 "nbformat_minor": 5
}
