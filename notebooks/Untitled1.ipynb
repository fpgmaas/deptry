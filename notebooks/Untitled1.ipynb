{
 "cells": [
  {
   "cell_type": "code",
   "execution_count": 1,
   "id": "9f4924ec-2200-4801-9d49-d4833651cbc4",
   "metadata": {},
   "outputs": [],
   "source": [
    "%load_ext autoreload\n",
    "%autoreload 2\n",
    "import toml\n",
    "from pathlib import Path\n",
    "import os\n",
    "os.chdir('../../da-ffilo-common')"
   ]
  },
  {
   "cell_type": "code",
   "execution_count": 2,
   "id": "fa1efd0c-2f0c-4b0b-ab4c-3fe4403d1432",
   "metadata": {},
   "outputs": [],
   "source": [
    "import sys\n",
    "sys.path.append('/Users/florian.maas/Library/Caches/pypoetry/virtualenvs/da-ffilo-common-dHisq-Qd-py3.9/lib/python3.9/site-packages')"
   ]
  },
  {
   "cell_type": "code",
   "execution_count": 3,
   "id": "7160a2ba-0367-46b9-a0ed-b532f9b43b3a",
   "metadata": {},
   "outputs": [],
   "source": [
    "import ast\n",
    "import logging\n",
    "from pathlib import Path\n",
    "from typing import List"
   ]
  },
  {
   "cell_type": "code",
   "execution_count": 8,
   "id": "4e67d61e-7b0e-48f4-863b-ac0cbc8c2b0d",
   "metadata": {},
   "outputs": [],
   "source": [
    "path = Path('da_ffilo_common/gcp/bq/writer.py')"
   ]
  },
  {
   "cell_type": "code",
   "execution_count": 9,
   "id": "cbabf3c3-f003-4cbc-bb8e-9d38775f63f9",
   "metadata": {},
   "outputs": [],
   "source": [
    "with open(path) as f:\n",
    "    root = ast.parse(f.read(), path)"
   ]
  },
  {
   "cell_type": "code",
   "execution_count": 12,
   "id": "69d972b3-0252-426d-850d-98419ed75df5",
   "metadata": {},
   "outputs": [
    {
     "name": "stdout",
     "output_type": "stream",
     "text": [
      "{'module': 'typing', 'names': [<ast.alias object at 0x10f461d00>, <ast.alias object at 0x10f461ca0>, <ast.alias object at 0x10f461c40>, <ast.alias object at 0x10f461be0>], 'level': 0, 'lineno': 1, 'col_offset': 0, 'end_lineno': 1, 'end_col_offset': 44}\n",
      "{'module': 'google.cloud', 'names': [<ast.alias object at 0x10f461b50>], 'level': 0, 'lineno': 3, 'col_offset': 0, 'end_lineno': 3, 'end_col_offset': 33}\n",
      "{'module': 'da_ffilo_common.gcp.bq.client', 'names': [<ast.alias object at 0x10f461ac0>], 'level': 0, 'lineno': 5, 'col_offset': 0, 'end_lineno': 5, 'end_col_offset': 56}\n",
      "{'module': 'da_ffilo_common.gcp.errors', 'names': [<ast.alias object at 0x10f461a30>], 'level': 0, 'lineno': 6, 'col_offset': 0, 'end_lineno': 6, 'end_col_offset': 58}\n",
      "{'name': 'BigQueryWriter', 'bases': [<ast.Name object at 0x10f4619a0>], 'keywords': [], 'body': [<ast.Expr object at 0x10f461970>, <ast.FunctionDef object at 0x10f461910>, <ast.FunctionDef object at 0x10f461700>, <ast.FunctionDef object at 0x10f45f880>], 'decorator_list': [], 'lineno': 9, 'col_offset': 0, 'end_lineno': 90, 'end_col_offset': 93}\n"
     ]
    }
   ],
   "source": [
    "for node in ast.iter_child_nodes(root):\n",
    "    print(node.__dict__)"
   ]
  },
  {
   "cell_type": "code",
   "execution_count": null,
   "id": "c613796a-f6c1-44ad-91c8-41d96e83db59",
   "metadata": {},
   "outputs": [],
   "source": []
  }
 ],
 "metadata": {
  "kernelspec": {
   "display_name": "Python 3 (ipykernel)",
   "language": "python",
   "name": "python3"
  },
  "language_info": {
   "codemirror_mode": {
    "name": "ipython",
    "version": 3
   },
   "file_extension": ".py",
   "mimetype": "text/x-python",
   "name": "python",
   "nbconvert_exporter": "python",
   "pygments_lexer": "ipython3",
   "version": "3.9.11"
  }
 },
 "nbformat": 4,
 "nbformat_minor": 5
}
