{
 "cells": [
  {
   "cell_type": "code",
   "execution_count": null,
   "id": "064f4445-752d-48e7-bbac-72fe198e28a2",
   "metadata": {},
   "outputs": [],
   "source": [
    "%load_ext autoreload\n",
    "%autoreload 2\n",
    "import importlib.metadata as metadata"
   ]
  },
  {
   "cell_type": "code",
   "execution_count": null,
   "id": "6d2dda83-00d2-407a-87ff-b602b415cb5c",
   "metadata": {},
   "outputs": [],
   "source": [
    "my_py_file = \"\"\"\n",
    "import pandas as pd\n",
    "from numpy import random\n",
    "try:\n",
    "    import click\n",
    "except:\n",
    "    import logging\n",
    "\"\"\"\n",
    "root = ast.parse(my_py_file)"
   ]
  },
  {
   "cell_type": "code",
   "execution_count": null,
   "id": "00957720-c90a-47be-bb95-4e59dcc026d3",
   "metadata": {},
   "outputs": [],
   "source": [
    "metadata.distribution('matplotlib').read_text('top_level.txt')"
   ]
  },
  {
   "cell_type": "code",
   "execution_count": 3,
   "id": "ee0127d4-4b8d-4abf-b807-39258914fb60",
   "metadata": {},
   "outputs": [],
   "source": [
    "import os\n",
    "os.chdir('..')"
   ]
  },
  {
   "cell_type": "code",
   "execution_count": 6,
   "id": "1a9d0781-368c-4522-87f8-c966b3a3f61c",
   "metadata": {},
   "outputs": [],
   "source": [
    "from pathlib import Path"
   ]
  },
  {
   "cell_type": "code",
   "execution_count": 7,
   "id": "87f8fa77-9fe1-4d93-81c1-060cb5014efe",
   "metadata": {},
   "outputs": [],
   "source": [
    "ignore_directories = ['.venv','tests','docs']"
   ]
  },
  {
   "cell_type": "code",
   "execution_count": null,
   "id": "729215e5-abc3-4dae-98f7-96ab7c41727a",
   "metadata": {},
   "outputs": [],
   "source": [
    "for node in ast.iter_child_nodes(root):\n",
    "    print(node)\n",
    "    if isinstance(node, ast.Try):\n",
    "        for node in ast.iter_child_nodes(node):\n",
    "            print(node)\n",
    "            if isinstance(node, ast.Try):\n",
    "                for node in ast.iter_child_nodes(node):\n",
    "                    pass"
   ]
  },
  {
   "cell_type": "code",
   "execution_count": null,
   "id": "47c85cc1-d281-4f3a-a708-3b74046eb8ad",
   "metadata": {},
   "outputs": [],
   "source": []
  },
  {
   "cell_type": "code",
   "execution_count": 38,
   "id": "7c9336ed-34f1-483e-a7e6-3094d0736378",
   "metadata": {},
   "outputs": [
    {
     "name": "stdout",
     "output_type": "stream",
     "text": [
      "Dependency 'beautifulsoup4' with top-levels: ['bs4', 'bs4/builder', 'bs4/tests']\n",
      "Dependency 'click' with top-levels: ['click']\n",
      "Dependency 'importlib-metadata' with top-levels: ['importlib_metadata']\n",
      "Dependency 'isort' with top-levels: None\n",
      "Dependency 'matplotlib' with top-levels: ['matplotlib', 'mpl_toolkits', 'pylab']\n",
      "Dependency 'python-dotenv' with top-levels: ['dotenv']\n",
      "Dependency 'toml' with top-levels: ['toml']\n"
     ]
    }
   ],
   "source": [
    "for x in dependencies:\n",
    "    print(x)"
   ]
  },
  {
   "cell_type": "code",
   "execution_count": null,
   "id": "afff82bb-6212-4c6f-aa6e-adbbc24279c5",
   "metadata": {},
   "outputs": [],
   "source": [
    "from deptry.import_parser import ImportParser\n",
    "imported_modules = ImportParser().get_imported_modules_from_str(my_py_file)"
   ]
  },
  {
   "cell_type": "code",
   "execution_count": null,
   "id": "874769dc-5275-469d-9af8-3bf6d6ff0b1e",
   "metadata": {},
   "outputs": [],
   "source": [
    "imported_modules"
   ]
  }
 ],
 "metadata": {
  "kernelspec": {
   "display_name": "Python 3 (ipykernel)",
   "language": "python",
   "name": "python3"
  },
  "language_info": {
   "codemirror_mode": {
    "name": "ipython",
    "version": 3
   },
   "file_extension": ".py",
   "mimetype": "text/x-python",
   "name": "python",
   "nbconvert_exporter": "python",
   "pygments_lexer": "ipython3",
   "version": "3.9.11"
  }
 },
 "nbformat": 4,
 "nbformat_minor": 5
}
