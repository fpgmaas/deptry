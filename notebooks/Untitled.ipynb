{
 "cells": [
  {
   "cell_type": "code",
   "execution_count": 3,
   "id": "ff081f8f-be58-4866-8450-ff64c92ff19f",
   "metadata": {},
   "outputs": [
    {
     "name": "stdout",
     "output_type": "stream",
     "text": [
      "The autoreload extension is already loaded. To reload it, use:\n",
      "  %reload_ext autoreload\n"
     ]
    }
   ],
   "source": [
    "%load_ext autoreload\n",
    "%autoreload 2\n",
    "import toml\n",
    "from pathlib import Path\n",
    "import os\n",
    "os.chdir('../../ppo/ppo-algorithm')"
   ]
  },
  {
   "cell_type": "code",
   "execution_count": 8,
   "id": "fa335be4-bfa4-42c5-8d64-f9dbe16c8840",
   "metadata": {},
   "outputs": [],
   "source": [
    "import sys\n",
    "sys.path.append('/Users/florian.maas/git/ppo/ppo-algorithm/.venv/lib/python3.9/site-packages')"
   ]
  },
  {
   "cell_type": "code",
   "execution_count": 9,
   "id": "da2fba71-27fe-4136-981a-be5f4ef07f38",
   "metadata": {},
   "outputs": [],
   "source": [
    "path_to_pyproject_toml = 'pyproject.toml'\n",
    "path_to_venv = '.venv'\n",
    "paths_to_ignore = ['.venv']"
   ]
  },
  {
   "cell_type": "code",
   "execution_count": 12,
   "id": "44edb9bc-b038-4a95-ad3c-79180a5631e6",
   "metadata": {},
   "outputs": [
    {
     "name": "stderr",
     "output_type": "stream",
     "text": [
      "WARNING:root:Failed to find package name for import yaml\n"
     ]
    },
    {
     "data": {
      "text/plain": [
       "['Flask',\n",
       " 'Flask-Cors',\n",
       " 'gunicorn',\n",
       " 'jupyter',\n",
       " 'jupyterlab',\n",
       " 'networkx',\n",
       " 'python-dotenv',\n",
       " 'python-tsp']"
      ]
     },
     "execution_count": 12,
     "metadata": {},
     "output_type": "execute_result"
    }
   ],
   "source": [
    "from deptry.core import Core\n",
    "Core().run()"
   ]
  },
  {
   "cell_type": "code",
   "execution_count": 16,
   "id": "627148ff-db93-40c3-a95d-3024ba861a63",
   "metadata": {},
   "outputs": [],
   "source": [
    "pyproject_text = Path(\"./pyproject.toml\").read_text()\n",
    "pyproject_data = toml.loads(pyproject_text)"
   ]
  },
  {
   "cell_type": "code",
   "execution_count": 18,
   "id": "c6f9f0da-1de3-4662-92dd-3aabcbf2e9cd",
   "metadata": {},
   "outputs": [
    {
     "data": {
      "text/plain": [
       "{'ignore_packages': ['Flask']}"
      ]
     },
     "execution_count": 18,
     "metadata": {},
     "output_type": "execute_result"
    }
   ],
   "source": [
    "pyproject_data['tool']['deptry']"
   ]
  },
  {
   "cell_type": "code",
   "execution_count": 19,
   "id": "2d66b247-cc08-427b-adb3-238cbfed8ed2",
   "metadata": {},
   "outputs": [
    {
     "ename": "TypeError",
     "evalue": "'NoneType' object is not iterable",
     "output_type": "error",
     "traceback": [
      "\u001b[0;31m---------------------------------------------------------------------------\u001b[0m",
      "\u001b[0;31mTypeError\u001b[0m                                 Traceback (most recent call last)",
      "Input \u001b[0;32mIn [19]\u001b[0m, in \u001b[0;36m<cell line: 1>\u001b[0;34m()\u001b[0m\n\u001b[0;32m----> 1\u001b[0m \u001b[38;5;28;43mlist\u001b[39;49m\u001b[43m(\u001b[49m\u001b[38;5;28;43;01mNone\u001b[39;49;00m\u001b[43m)\u001b[49m\n",
      "\u001b[0;31mTypeError\u001b[0m: 'NoneType' object is not iterable"
     ]
    }
   ],
   "source": [
    "list(None)"
   ]
  },
  {
   "cell_type": "code",
   "execution_count": 20,
   "id": "2a9ab639-39b6-459c-8152-4b6626547215",
   "metadata": {},
   "outputs": [],
   "source": [
    "a = {}\n",
    "for x in a:\n",
    "    print(1)"
   ]
  },
  {
   "cell_type": "code",
   "execution_count": null,
   "id": "3dbc2f32-dd4c-490a-aa7b-03536097612a",
   "metadata": {},
   "outputs": [],
   "source": []
  }
 ],
 "metadata": {
  "kernelspec": {
   "display_name": "Python 3 (ipykernel)",
   "language": "python",
   "name": "python3"
  },
  "language_info": {
   "codemirror_mode": {
    "name": "ipython",
    "version": 3
   },
   "file_extension": ".py",
   "mimetype": "text/x-python",
   "name": "python",
   "nbconvert_exporter": "python",
   "pygments_lexer": "ipython3",
   "version": "3.9.11"
  }
 },
 "nbformat": 4,
 "nbformat_minor": 5
}
