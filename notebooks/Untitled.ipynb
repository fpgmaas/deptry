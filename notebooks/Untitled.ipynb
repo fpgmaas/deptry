{
 "cells": [
  {
   "cell_type": "code",
   "execution_count": 3,
   "id": "ff081f8f-be58-4866-8450-ff64c92ff19f",
   "metadata": {},
   "outputs": [
    {
     "name": "stdout",
     "output_type": "stream",
     "text": [
      "The autoreload extension is already loaded. To reload it, use:\n",
      "  %reload_ext autoreload\n"
     ]
    }
   ],
   "source": [
    "%load_ext autoreload\n",
    "%autoreload 2\n",
    "import toml\n",
    "from pathlib import Path\n",
    "import os\n",
    "os.chdir('../../ppo/ppo-algorithm')"
   ]
  },
  {
   "cell_type": "code",
   "execution_count": 8,
   "id": "fa335be4-bfa4-42c5-8d64-f9dbe16c8840",
   "metadata": {},
   "outputs": [],
   "source": [
    "import sys\n",
    "sys.path.append('/Users/florian.maas/git/ppo/ppo-algorithm/.venv/lib/python3.9/site-packages')"
   ]
  },
  {
   "cell_type": "code",
   "execution_count": 9,
   "id": "da2fba71-27fe-4136-981a-be5f4ef07f38",
   "metadata": {},
   "outputs": [],
   "source": [
    "path_to_pyproject_toml = 'pyproject.toml'\n",
    "path_to_venv = '.venv'\n",
    "paths_to_ignore = ['.venv']"
   ]
  },
  {
   "cell_type": "code",
   "execution_count": 12,
   "id": "44edb9bc-b038-4a95-ad3c-79180a5631e6",
   "metadata": {},
   "outputs": [
    {
     "name": "stderr",
     "output_type": "stream",
     "text": [
      "WARNING:root:Failed to find package name for import yaml\n"
     ]
    },
    {
     "data": {
      "text/plain": [
       "['Flask',\n",
       " 'Flask-Cors',\n",
       " 'gunicorn',\n",
       " 'jupyter',\n",
       " 'jupyterlab',\n",
       " 'networkx',\n",
       " 'python-dotenv',\n",
       " 'python-tsp']"
      ]
     },
     "execution_count": 12,
     "metadata": {},
     "output_type": "execute_result"
    }
   ],
   "source": [
    "from deptry.core import Core\n",
    "Core().run()"
   ]
  },
  {
   "cell_type": "code",
   "execution_count": null,
   "id": "627148ff-db93-40c3-a95d-3024ba861a63",
   "metadata": {},
   "outputs": [],
   "source": []
  }
 ],
 "metadata": {
  "kernelspec": {
   "display_name": "Python 3 (ipykernel)",
   "language": "python",
   "name": "python3"
  },
  "language_info": {
   "codemirror_mode": {
    "name": "ipython",
    "version": 3
   },
   "file_extension": ".py",
   "mimetype": "text/x-python",
   "name": "python",
   "nbconvert_exporter": "python",
   "pygments_lexer": "ipython3",
   "version": "3.9.11"
  }
 },
 "nbformat": 4,
 "nbformat_minor": 5
}
