{
 "cells": [
  {
   "cell_type": "code",
   "execution_count": null,
   "id": "064f4445-752d-48e7-bbac-72fe198e28a2",
   "metadata": {},
   "outputs": [],
   "source": [
    "import ast"
   ]
  },
  {
   "cell_type": "code",
   "execution_count": null,
   "id": "6d2dda83-00d2-407a-87ff-b602b415cb5c",
   "metadata": {},
   "outputs": [],
   "source": [
    "my_py_file = \"\"\"\n",
    "import pandas as pd\n",
    "from numpy import random\n",
    "try:\n",
    "    import click\n",
    "except:\n",
    "    import logging\n",
    "\"\"\"\n",
    "root = ast.parse(my_py_file)"
   ]
  },
  {
   "cell_type": "code",
   "execution_count": null,
   "id": "00957720-c90a-47be-bb95-4e59dcc026d3",
   "metadata": {},
   "outputs": [],
   "source": [
    "root"
   ]
  },
  {
   "cell_type": "code",
   "execution_count": null,
   "id": "729215e5-abc3-4dae-98f7-96ab7c41727a",
   "metadata": {},
   "outputs": [],
   "source": [
    "for node in ast.iter_child_nodes(root):\n",
    "    print(node)\n",
    "    if isinstance(node, ast.Try):\n",
    "        for node in ast.iter_child_nodes(node):\n",
    "            print(node)\n",
    "            if isinstance(node, ast.Try):\n",
    "                for node in ast.iter_child_nodes(node):\n",
    "                    pass"
   ]
  },
  {
   "cell_type": "code",
   "execution_count": null,
   "id": "d4978dbe-2173-404f-a46a-8839e09a4e52",
   "metadata": {},
   "outputs": [],
   "source": [
    "from deptry.import_parser import ImportParser\n",
    "imported_modules = ImportParser().get_imported_modules_from_str(my_py_file)"
   ]
  },
  {
   "cell_type": "code",
   "execution_count": null,
   "id": "874769dc-5275-469d-9af8-3bf6d6ff0b1e",
   "metadata": {},
   "outputs": [],
   "source": [
    "imported_modules"
   ]
  }
 ],
 "metadata": {
  "kernelspec": {
   "display_name": "Python 3 (ipykernel)",
   "language": "python",
   "name": "python3"
  },
  "language_info": {
   "codemirror_mode": {
    "name": "ipython",
    "version": 3
   },
   "file_extension": ".py",
   "mimetype": "text/x-python",
   "name": "python",
   "nbconvert_exporter": "python",
   "pygments_lexer": "ipython3",
   "version": "3.9.11"
  }
 },
 "nbformat": 4,
 "nbformat_minor": 5
}
