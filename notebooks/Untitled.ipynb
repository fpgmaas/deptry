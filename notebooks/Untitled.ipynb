{
 "cells": [
  {
   "cell_type": "code",
   "execution_count": 1,
   "id": "ff54dbed-003c-405d-a8f7-b954f286f317",
   "metadata": {},
   "outputs": [],
   "source": [
    "%load_ext autoreload\n",
    "%autoreload 2\n",
    "import toml\n",
    "from pathlib import Path\n",
    "import os\n",
    "os.chdir('..')"
   ]
  },
  {
   "cell_type": "code",
   "execution_count": 2,
   "id": "da2fba71-27fe-4136-981a-be5f4ef07f38",
   "metadata": {},
   "outputs": [],
   "source": [
    "path_to_pyproject_toml = 'pyproject.toml'\n",
    "path_to_venv = '.venv'\n",
    "paths_to_ignore = ['.venv']"
   ]
  },
  {
   "cell_type": "code",
   "execution_count": 3,
   "id": "3408eeeb-91a4-4056-9ce9-d70c13c8983f",
   "metadata": {},
   "outputs": [],
   "source": [
    "pyproject_text = Path(path_to_pyproject_toml).read_text()\n",
    "pyproject_data = toml.loads(pyproject_text)"
   ]
  },
  {
   "cell_type": "code",
   "execution_count": 4,
   "id": "d77a0c0e-cbb0-4f80-b87a-8c721c684d63",
   "metadata": {},
   "outputs": [],
   "source": [
    "dependencies = pyproject_data['tool']['poetry']['dependencies']\n",
    "dependencies_dev = pyproject_data['tool']['poetry']['dev-dependencies']"
   ]
  },
  {
   "cell_type": "code",
   "execution_count": 5,
   "id": "53a48427-9e19-4c82-9fea-2ceb6220b9b5",
   "metadata": {},
   "outputs": [
    {
     "data": {
      "text/plain": [
       "{'python': '>=3.8,<3.11',\n",
       " 'pandas': '^1.4.3',\n",
       " 'numpy': '^1.23.2',\n",
       " 'jupyterlab': '^3.4.5',\n",
       " 'toml': '^0.10.2',\n",
       " 'cookiecutter-poetry': '^0.3.7'}"
      ]
     },
     "execution_count": 5,
     "metadata": {},
     "output_type": "execute_result"
    }
   ],
   "source": [
    "dependencies"
   ]
  },
  {
   "cell_type": "code",
   "execution_count": 130,
   "id": "234d3de3-f5a2-435a-9190-e9542a7332cd",
   "metadata": {},
   "outputs": [],
   "source": [
    "from poetry_check_deps.python_file_finder import PythonFileFinder\n",
    "from poetry_check_deps.import_parser import ImportParser"
   ]
  },
  {
   "cell_type": "code",
   "execution_count": 131,
   "id": "495a21ac-ed1b-47cd-a1b8-64d2811f3c02",
   "metadata": {},
   "outputs": [],
   "source": [
    "all_py_files = PythonFileFinder(include_ipynb=True).get_list_of_python_files()"
   ]
  },
  {
   "cell_type": "code",
   "execution_count": 155,
   "id": "efb951c3-8b8d-4a84-a216-29cda46b2559",
   "metadata": {},
   "outputs": [
    {
     "data": {
      "text/plain": [
       "['pathlib',\n",
       " 'typing',\n",
       " 'numpy',\n",
       " 'pandas',\n",
       " 'numpy',\n",
       " 'os',\n",
       " 'pathlib',\n",
       " 'typing',\n",
       " 'ast',\n",
       " 'pathlib',\n",
       " 'typing',\n",
       " 'numpy',\n",
       " 'poetry_check_deps']"
      ]
     },
     "execution_count": 155,
     "metadata": {},
     "output_type": "execute_result"
    }
   ],
   "source": [
    "ImportParser().get_imported_modules_for_list_of_files(all_py_files)"
   ]
  },
  {
   "cell_type": "code",
   "execution_count": 148,
   "id": "51ce8312-b7b5-4564-bd56-0aacd76c6b2a",
   "metadata": {},
   "outputs": [],
   "source": [
    "def flatten_list(nested_list):\n",
    "    return [item['imports'] for sublist in nested_list for item in sublist]"
   ]
  },
  {
   "cell_type": "code",
   "execution_count": 141,
   "id": "dee3d73b-6dc7-4f0c-b78b-31215c2436d2",
   "metadata": {},
   "outputs": [
    {
     "ename": "TypeError",
     "evalue": "string indices must be integers",
     "output_type": "error",
     "traceback": [
      "\u001b[0;31m---------------------------------------------------------------------------\u001b[0m",
      "\u001b[0;31mTypeError\u001b[0m                                 Traceback (most recent call last)",
      "Input \u001b[0;32mIn [149]\u001b[0m, in \u001b[0;36m<cell line: 1>\u001b[0;34m()\u001b[0m\n\u001b[0;32m----> 1\u001b[0m all_imports \u001b[38;5;241m=\u001b[39m \u001b[43mflatten_list\u001b[49m\u001b[43m(\u001b[49m\u001b[43mimports_per_file\u001b[49m\u001b[43m)\u001b[49m\n",
      "Input \u001b[0;32mIn [148]\u001b[0m, in \u001b[0;36mflatten_list\u001b[0;34m(nested_list)\u001b[0m\n\u001b[1;32m      1\u001b[0m \u001b[38;5;28;01mdef\u001b[39;00m \u001b[38;5;21mflatten_list\u001b[39m(nested_list):\n\u001b[0;32m----> 2\u001b[0m     \u001b[38;5;28;01mreturn\u001b[39;00m [item[\u001b[38;5;124m'\u001b[39m\u001b[38;5;124mimports\u001b[39m\u001b[38;5;124m'\u001b[39m] \u001b[38;5;28;01mfor\u001b[39;00m sublist \u001b[38;5;129;01min\u001b[39;00m nested_list \u001b[38;5;28;01mfor\u001b[39;00m item \u001b[38;5;129;01min\u001b[39;00m sublist]\n",
      "Input \u001b[0;32mIn [148]\u001b[0m, in \u001b[0;36m<listcomp>\u001b[0;34m(.0)\u001b[0m\n\u001b[1;32m      1\u001b[0m \u001b[38;5;28;01mdef\u001b[39;00m \u001b[38;5;21mflatten_list\u001b[39m(nested_list):\n\u001b[0;32m----> 2\u001b[0m     \u001b[38;5;28;01mreturn\u001b[39;00m [\u001b[43mitem\u001b[49m\u001b[43m[\u001b[49m\u001b[38;5;124;43m'\u001b[39;49m\u001b[38;5;124;43mimports\u001b[39;49m\u001b[38;5;124;43m'\u001b[39;49m\u001b[43m]\u001b[49m \u001b[38;5;28;01mfor\u001b[39;00m sublist \u001b[38;5;129;01min\u001b[39;00m nested_list \u001b[38;5;28;01mfor\u001b[39;00m item \u001b[38;5;129;01min\u001b[39;00m sublist]\n",
      "\u001b[0;31mTypeError\u001b[0m: string indices must be integers"
     ]
    }
   ],
   "source": [
    "all_imports = flatten_list(imports_per_file)"
   ]
  },
  {
   "cell_type": "code",
   "execution_count": 147,
   "id": "afe8b804-8add-4c03-a67d-064a3cf1b83e",
   "metadata": {},
   "outputs": [
    {
     "data": {
      "text/plain": [
       "[{'path': 'poetry_check_deps/__init__.py', 'imports': []},\n",
       " {'path': 'poetry_check_deps/mock_imports.py',\n",
       "  'imports': ['pathlib', 'typing', 'numpy', 'pandas', 'numpy', 'os']},\n",
       " {'path': 'poetry_check_deps/import_parser.py',\n",
       "  'imports': ['pathlib', 'typing', 'ast']},\n",
       " {'path': 'poetry_check_deps/foo.py', 'imports': []},\n",
       " {'path': 'poetry_check_deps/python_file_finder.py',\n",
       "  'imports': ['pathlib', 'typing', 'numpy']},\n",
       " {'path': 'tests/test_foo.py', 'imports': ['poetry_check_deps']},\n",
       " {'path': 'notebooks/Untitled.ipynb', 'imports': []},\n",
       " {'path': 'notebooks/.ipynb_checkpoints/Untitled-checkpoint.ipynb',\n",
       "  'imports': []}]"
      ]
     },
     "execution_count": 147,
     "metadata": {},
     "output_type": "execute_result"
    }
   ],
   "source": [
    "imports_per_file"
   ]
  },
  {
   "cell_type": "code",
   "execution_count": null,
   "id": "34ceb16a-0f6c-4d88-be66-15dc9bebcecd",
   "metadata": {},
   "outputs": [],
   "source": []
  }
 ],
 "metadata": {
  "kernelspec": {
   "display_name": "Python 3 (ipykernel)",
   "language": "python",
   "name": "python3"
  },
  "language_info": {
   "codemirror_mode": {
    "name": "ipython",
    "version": 3
   },
   "file_extension": ".py",
   "mimetype": "text/x-python",
   "name": "python",
   "nbconvert_exporter": "python",
   "pygments_lexer": "ipython3",
   "version": "3.9.11"
  }
 },
 "nbformat": 4,
 "nbformat_minor": 5
}
