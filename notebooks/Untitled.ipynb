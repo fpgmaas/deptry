{
 "cells": [
  {
   "cell_type": "code",
   "execution_count": 24,
   "id": "ff081f8f-be58-4866-8450-ff64c92ff19f",
   "metadata": {},
   "outputs": [
    {
     "name": "stdout",
     "output_type": "stream",
     "text": [
      "The autoreload extension is already loaded. To reload it, use:\n",
      "  %reload_ext autoreload\n"
     ]
    }
   ],
   "source": [
    "%load_ext autoreload\n",
    "%autoreload 2\n",
    "import toml\n",
    "from pathlib import Path\n",
    "import os\n",
    "os.chdir('../ppo/ppo-algorithm')"
   ]
  },
  {
   "cell_type": "code",
   "execution_count": 25,
   "id": "fa335be4-bfa4-42c5-8d64-f9dbe16c8840",
   "metadata": {},
   "outputs": [],
   "source": [
    "import sys\n",
    "sys.path.append('/Users/florian.maas/git/poetry-check-deps')"
   ]
  },
  {
   "cell_type": "code",
   "execution_count": 26,
   "id": "da2fba71-27fe-4136-981a-be5f4ef07f38",
   "metadata": {},
   "outputs": [],
   "source": [
    "path_to_pyproject_toml = 'pyproject.toml'\n",
    "path_to_venv = '.venv'\n",
    "paths_to_ignore = ['.venv']"
   ]
  },
  {
   "cell_type": "code",
   "execution_count": 27,
   "id": "3408eeeb-91a4-4056-9ce9-d70c13c8983f",
   "metadata": {},
   "outputs": [],
   "source": [
    "pyproject_text = Path(path_to_pyproject_toml).read_text()\n",
    "pyproject_data = toml.loads(pyproject_text)"
   ]
  },
  {
   "cell_type": "code",
   "execution_count": 28,
   "id": "d77a0c0e-cbb0-4f80-b87a-8c721c684d63",
   "metadata": {},
   "outputs": [],
   "source": [
    "dependencies = list(pyproject_data['tool']['poetry']['dependencies'].keys())\n",
    "dependencies_dev = list(pyproject_data['tool']['poetry']['dev-dependencies'].keys())"
   ]
  },
  {
   "cell_type": "code",
   "execution_count": 29,
   "id": "ff833c7d-0573-47f3-97bd-cbdced86d57c",
   "metadata": {},
   "outputs": [
    {
     "data": {
      "text/plain": [
       "['python',\n",
       " 'jupyter',\n",
       " 'psycopg2',\n",
       " 'jupyterlab',\n",
       " 'pandas',\n",
       " 'python-dotenv',\n",
       " 'networkx',\n",
       " 'python-tsp',\n",
       " 'Flask',\n",
       " 'Flask-Cors',\n",
       " 'gunicorn',\n",
       " 'firebase-admin']"
      ]
     },
     "execution_count": 29,
     "metadata": {},
     "output_type": "execute_result"
    }
   ],
   "source": [
    "dependencies"
   ]
  },
  {
   "cell_type": "code",
   "execution_count": 30,
   "id": "234d3de3-f5a2-435a-9190-e9542a7332cd",
   "metadata": {},
   "outputs": [],
   "source": [
    "from poetry_check_deps.python_file_finder import PythonFileFinder\n",
    "from poetry_check_deps.import_parser import ImportParser\n",
    "from poetry_check_deps.venv_module_extractor import VenvModuleExtractor"
   ]
  },
  {
   "cell_type": "code",
   "execution_count": 31,
   "id": "495a21ac-ed1b-47cd-a1b8-64d2811f3c02",
   "metadata": {},
   "outputs": [],
   "source": [
    "all_py_files = PythonFileFinder(include_ipynb=True).get_list_of_python_files()"
   ]
  },
  {
   "cell_type": "code",
   "execution_count": 43,
   "id": "efb951c3-8b8d-4a84-a216-29cda46b2559",
   "metadata": {},
   "outputs": [],
   "source": [
    "imported_modules = ImportParser().get_imported_modules_for_list_of_files(all_py_files)"
   ]
  },
  {
   "cell_type": "code",
   "execution_count": 44,
   "id": "34ceb16a-0f6c-4d88-be66-15dc9bebcecd",
   "metadata": {},
   "outputs": [
    {
     "data": {
      "text/plain": [
       "['argparse',\n",
       " 'datetime',\n",
       " 'firebase_admin',\n",
       " 'itertools',\n",
       " 'json',\n",
       " 'logging',\n",
       " 'numpy',\n",
       " 'os',\n",
       " 'pandas',\n",
       " 'ppo_algorithm',\n",
       " 'psycopg2',\n",
       " 'random',\n",
       " 'typing',\n",
       " 'yaml']"
      ]
     },
     "execution_count": 44,
     "metadata": {},
     "output_type": "execute_result"
    }
   ],
   "source": [
    "imported_modules"
   ]
  },
  {
   "cell_type": "code",
   "execution_count": 45,
   "id": "db06a59a-d094-47f0-bcd8-f3fa38fbb67d",
   "metadata": {},
   "outputs": [],
   "source": [
    "installed_modules = VenvModuleExtractor().extract_modules()"
   ]
  },
  {
   "cell_type": "code",
   "execution_count": 37,
   "id": "f2ad3e8e-5f8f-456c-ae08-a889dc31db61",
   "metadata": {},
   "outputs": [],
   "source": [
    "installed_modules_that_are_imported = [module for module in installed_modules if module['module_name'] in imported_modules]\n",
    "imported_packages = [module['package_name'] for module in installed_modules_that_are_imported]"
   ]
  },
  {
   "cell_type": "code",
   "execution_count": 39,
   "id": "86d62804-c3a8-4917-ae37-2aabf83393f8",
   "metadata": {},
   "outputs": [
    {
     "data": {
      "text/plain": [
       "{'Flask',\n",
       " 'Flask-Cors',\n",
       " 'gunicorn',\n",
       " 'jupyter',\n",
       " 'jupyterlab',\n",
       " 'networkx',\n",
       " 'python-dotenv',\n",
       " 'python-tsp'}"
      ]
     },
     "execution_count": 39,
     "metadata": {},
     "output_type": "execute_result"
    }
   ],
   "source": [
    "set(dependencies) - set(imported_packages) - set(['python'])"
   ]
  },
  {
   "cell_type": "code",
   "execution_count": 41,
   "id": "6c0231ca-2564-4186-81aa-3ab36a333176",
   "metadata": {},
   "outputs": [
    {
     "data": {
      "text/plain": [
       "['/Users/florian.maas/git/poetry-check-deps/notebooks',\n",
       " '/Users/florian.maas/.pyenv/versions/3.9.11/lib/python39.zip',\n",
       " '/Users/florian.maas/.pyenv/versions/3.9.11/lib/python3.9',\n",
       " '/Users/florian.maas/.pyenv/versions/3.9.11/lib/python3.9/lib-dynload',\n",
       " '',\n",
       " '/Users/florian.maas/git/poetry-check-deps/.venv/lib/python3.9/site-packages',\n",
       " '/Users/florian.maas/git/poetry-check-deps',\n",
       " '/Users/florian.maas/git/poetry-check-deps']"
      ]
     },
     "execution_count": 41,
     "metadata": {},
     "output_type": "execute_result"
    }
   ],
   "source": [
    "sys.path"
   ]
  },
  {
   "cell_type": "code",
   "execution_count": 46,
   "id": "d9c71efe-7f88-4fc3-8651-ff2037134e90",
   "metadata": {},
   "outputs": [],
   "source": [
    "import pkg_resources as pkg "
   ]
  },
  {
   "cell_type": "code",
   "execution_count": 51,
   "id": "52a78863-cb95-445f-bfe2-2095c74ba373",
   "metadata": {},
   "outputs": [
    {
     "data": {
      "text/plain": [
       "'/Users/florian.maas/git/poetry-check-deps/.venv/lib/python3.9/site-packages/pandas-1.4.3.dist-info'"
      ]
     },
     "execution_count": 51,
     "metadata": {},
     "output_type": "execute_result"
    }
   ],
   "source": [
    "pkg.get_distribution('').egg_info"
   ]
  },
  {
   "cell_type": "code",
   "execution_count": null,
   "id": "04e2bf73-e7ff-46dc-9e06-8c5138d33bde",
   "metadata": {},
   "outputs": [],
   "source": []
  }
 ],
 "metadata": {
  "kernelspec": {
   "display_name": "Python 3 (ipykernel)",
   "language": "python",
   "name": "python3"
  },
  "language_info": {
   "codemirror_mode": {
    "name": "ipython",
    "version": 3
   },
   "file_extension": ".py",
   "mimetype": "text/x-python",
   "name": "python",
   "nbconvert_exporter": "python",
   "pygments_lexer": "ipython3",
   "version": "3.9.11"
  }
 },
 "nbformat": 4,
 "nbformat_minor": 5
}
