{
 "cells": [
  {
   "cell_type": "code",
   "execution_count": 1,
   "id": "ff081f8f-be58-4866-8450-ff64c92ff19f",
   "metadata": {},
   "outputs": [],
   "source": [
    "%load_ext autoreload\n",
    "%autoreload 2\n",
    "import toml\n",
    "from pathlib import Path\n",
    "import os"
   ]
  },
  {
   "cell_type": "code",
   "execution_count": 2,
   "id": "fa335be4-bfa4-42c5-8d64-f9dbe16c8840",
   "metadata": {},
   "outputs": [],
   "source": [
    "from deptry.import_parser import ImportParser"
   ]
  },
  {
   "cell_type": "code",
   "execution_count": 7,
   "id": "da2fba71-27fe-4136-981a-be5f4ef07f38",
   "metadata": {},
   "outputs": [
    {
     "data": {
      "text/plain": [
       "['click', 'numpy', 'os', 'pandas', 'pathlib']"
      ]
     },
     "execution_count": 7,
     "metadata": {},
     "output_type": "execute_result"
    }
   ],
   "source": [
    "files = [Path('../tests/data/projects/project_with_obsolete/src/main.py')]\n",
    "ImportParser('tmp').get_imported_modules_for_list_of_files(files)"
   ]
  },
  {
   "cell_type": "code",
   "execution_count": null,
   "id": "44edb9bc-b038-4a95-ad3c-79180a5631e6",
   "metadata": {},
   "outputs": [],
   "source": [
    "from deptry.core import Core\n",
    "Core().run()"
   ]
  },
  {
   "cell_type": "code",
   "execution_count": null,
   "id": "627148ff-db93-40c3-a95d-3024ba861a63",
   "metadata": {},
   "outputs": [],
   "source": [
    "pyproject_text = Path(\"./pyproject.toml\").read_text()\n",
    "pyproject_data = toml.loads(pyproject_text)"
   ]
  },
  {
   "cell_type": "code",
   "execution_count": null,
   "id": "c6f9f0da-1de3-4662-92dd-3aabcbf2e9cd",
   "metadata": {},
   "outputs": [],
   "source": [
    "pyproject_data['tool']['deptry']"
   ]
  },
  {
   "cell_type": "code",
   "execution_count": 19,
   "id": "fa15a0c3-2c74-4645-b10a-8b9f4646b320",
   "metadata": {},
   "outputs": [],
   "source": [
    "with open('Untitled.ipynb','r') as f:\n",
    "    notebook = json.load(f)"
   ]
  },
  {
   "cell_type": "code",
   "execution_count": 23,
   "id": "e1eca133-d1b0-49ea-9cbc-307a9bc5b5c3",
   "metadata": {},
   "outputs": [],
   "source": [
    "cells = [cell for cell in notebook['cells'] if cell['cell_type'] == 'code']"
   ]
  },
  {
   "cell_type": "code",
   "execution_count": 44,
   "id": "ebbb92a4-82df-475f-ab02-13cb0b8f9c6a",
   "metadata": {},
   "outputs": [],
   "source": [
    "import_statements = [extract_import_statements_from_cell(cell) for cell in cells]"
   ]
  },
  {
   "cell_type": "code",
   "execution_count": 45,
   "id": "c3936619-b95b-4979-a023-2d34b30fb04f",
   "metadata": {},
   "outputs": [
    {
     "data": {
      "text/plain": [
       "['%load_ext autoreload\\n',\n",
       " '%autoreload 2\\n',\n",
       " 'import toml\\n',\n",
       " 'from pathlib import Path\\n',\n",
       " 'import os\\n',\n",
       " \"os.chdir('../../ppo/ppo-algorithm')\"]"
      ]
     },
     "execution_count": 45,
     "metadata": {},
     "output_type": "execute_result"
    }
   ],
   "source": [
    "cells[0]['source']"
   ]
  },
  {
   "cell_type": "code",
   "execution_count": 46,
   "id": "0870e1bd-564f-4838-80db-1371c287d8d1",
   "metadata": {},
   "outputs": [],
   "source": [
    "import re\n",
    "\n",
    "def contains_import_statements(line):\n",
    "    return re.search(r\"^(?:from\\s+(\\w+)(?:\\.\\w+)?\\s+)?import\\s+([^\\s,.]+)(?:\\.\\w+)?\", line) is not None\n",
    "\n",
    "def extract_import_statements_from_cell(cell):\n",
    "    return [line for line in cell['source'] if contains_import_statements(line)]"
   ]
  },
  {
   "cell_type": "code",
   "execution_count": null,
   "id": "daac4b65-0db3-44d6-848e-dcdc58dc68d8",
   "metadata": {},
   "outputs": [],
   "source": []
  },
  {
   "cell_type": "code",
   "execution_count": 47,
   "id": "09205013-c8fc-43eb-99c6-1d3201c44779",
   "metadata": {},
   "outputs": [
    {
     "data": {
      "text/plain": [
       "[['import toml\\n', 'from pathlib import Path\\n', 'import os\\n'],\n",
       " ['import sys\\n'],\n",
       " [],\n",
       " ['from deptry.core import Core\\n'],\n",
       " [],\n",
       " [],\n",
       " []]"
      ]
     },
     "execution_count": 47,
     "metadata": {},
     "output_type": "execute_result"
    }
   ],
   "source": [
    "import_statements"
   ]
  },
  {
   "cell_type": "code",
   "execution_count": 48,
   "id": "2bd30b02-fc43-4c0a-b9eb-f3e24e118ace",
   "metadata": {},
   "outputs": [],
   "source": [
    "def flatten(l):\n",
    "    return [item for sublist in l for item in sublist]"
   ]
  },
  {
   "cell_type": "code",
   "execution_count": 51,
   "id": "d8e2b7b6-163b-4dcc-bad2-1145f218ff08",
   "metadata": {},
   "outputs": [],
   "source": [
    "import_statements = flatten(import_statements)"
   ]
  },
  {
   "cell_type": "code",
   "execution_count": 50,
   "id": "07dbf4c6-422e-4b9e-a0c0-b5c90e37cf5e",
   "metadata": {},
   "outputs": [],
   "source": [
    "import ast"
   ]
  },
  {
   "cell_type": "code",
   "execution_count": 52,
   "id": "8459dafb-48a1-4c11-96dd-2aff9f4092da",
   "metadata": {},
   "outputs": [
    {
     "ename": "TypeError",
     "evalue": "compile() arg 1 must be a string, bytes or AST object",
     "output_type": "error",
     "traceback": [
      "\u001b[0;31m---------------------------------------------------------------------------\u001b[0m",
      "\u001b[0;31mTypeError\u001b[0m                                 Traceback (most recent call last)",
      "Input \u001b[0;32mIn [52]\u001b[0m, in \u001b[0;36m<cell line: 1>\u001b[0;34m()\u001b[0m\n\u001b[0;32m----> 1\u001b[0m \u001b[43mast\u001b[49m\u001b[38;5;241;43m.\u001b[39;49m\u001b[43mparse\u001b[49m\u001b[43m(\u001b[49m\u001b[43mimport_statements\u001b[49m\u001b[43m)\u001b[49m\n",
      "File \u001b[0;32m~/.pyenv/versions/3.9.11/lib/python3.9/ast.py:50\u001b[0m, in \u001b[0;36mparse\u001b[0;34m(source, filename, mode, type_comments, feature_version)\u001b[0m\n\u001b[1;32m     48\u001b[0m     feature_version \u001b[38;5;241m=\u001b[39m \u001b[38;5;241m-\u001b[39m\u001b[38;5;241m1\u001b[39m\n\u001b[1;32m     49\u001b[0m \u001b[38;5;66;03m# Else it should be an int giving the minor version for 3.x.\u001b[39;00m\n\u001b[0;32m---> 50\u001b[0m \u001b[38;5;28;01mreturn\u001b[39;00m \u001b[38;5;28;43mcompile\u001b[39;49m\u001b[43m(\u001b[49m\u001b[43msource\u001b[49m\u001b[43m,\u001b[49m\u001b[43m \u001b[49m\u001b[43mfilename\u001b[49m\u001b[43m,\u001b[49m\u001b[43m \u001b[49m\u001b[43mmode\u001b[49m\u001b[43m,\u001b[49m\u001b[43m \u001b[49m\u001b[43mflags\u001b[49m\u001b[43m,\u001b[49m\n\u001b[1;32m     51\u001b[0m \u001b[43m               \u001b[49m\u001b[43m_feature_version\u001b[49m\u001b[38;5;241;43m=\u001b[39;49m\u001b[43mfeature_version\u001b[49m\u001b[43m)\u001b[49m\n",
      "\u001b[0;31mTypeError\u001b[0m: compile() arg 1 must be a string, bytes or AST object"
     ]
    }
   ],
   "source": [
    "ast.parse(import_statements)"
   ]
  },
  {
   "cell_type": "code",
   "execution_count": null,
   "id": "228ea9e9-966c-4a2d-8283-6a2823064bc6",
   "metadata": {},
   "outputs": [],
   "source": []
  }
 ],
 "metadata": {
  "kernelspec": {
   "display_name": "Python 3 (ipykernel)",
   "language": "python",
   "name": "python3"
  },
  "language_info": {
   "codemirror_mode": {
    "name": "ipython",
    "version": 3
   },
   "file_extension": ".py",
   "mimetype": "text/x-python",
   "name": "python",
   "nbconvert_exporter": "python",
   "pygments_lexer": "ipython3",
   "version": "3.9.11"
  }
 },
 "nbformat": 4,
 "nbformat_minor": 5
}
