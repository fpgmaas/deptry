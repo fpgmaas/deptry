{
 "cells": [
  {
   "cell_type": "code",
   "execution_count": 1,
   "id": "ff081f8f-be58-4866-8450-ff64c92ff19f",
   "metadata": {},
   "outputs": [],
   "source": [
    "%load_ext autoreload\n",
    "%autoreload 2\n",
    "import toml\n",
    "from pathlib import Path\n",
    "import os"
   ]
  },
  {
   "cell_type": "code",
   "execution_count": 2,
   "id": "fa335be4-bfa4-42c5-8d64-f9dbe16c8840",
   "metadata": {},
   "outputs": [],
   "source": [
    "from deptry.import_parser import ImportParser"
   ]
  },
  {
   "cell_type": "code",
   "execution_count": 7,
   "id": "da2fba71-27fe-4136-981a-be5f4ef07f38",
   "metadata": {},
   "outputs": [
    {
     "data": {
      "text/plain": [
       "['click', 'numpy', 'os', 'pandas', 'pathlib']"
      ]
     },
     "execution_count": 7,
     "metadata": {},
     "output_type": "execute_result"
    }
   ],
   "source": [
    "files = [Path('../tests/data/projects/project_with_obsolete/src/main.py')]\n",
    "ImportParser('tmp').get_imported_modules_for_list_of_files(files)"
   ]
  },
  {
   "cell_type": "code",
   "execution_count": null,
   "id": "44edb9bc-b038-4a95-ad3c-79180a5631e6",
   "metadata": {},
   "outputs": [],
   "source": [
    "from deptry.core import Core\n",
    "Core().run()"
   ]
  },
  {
   "cell_type": "code",
   "execution_count": null,
   "id": "627148ff-db93-40c3-a95d-3024ba861a63",
   "metadata": {},
   "outputs": [],
   "source": [
    "pyproject_text = Path(\"./pyproject.toml\").read_text()\n",
    "pyproject_data = toml.loads(pyproject_text)"
   ]
  },
  {
   "cell_type": "code",
   "execution_count": null,
   "id": "228ea9e9-966c-4a2d-8283-6a2823064bc6",
   "metadata": {},
   "outputs": [],
   "source": []
  }
 ],
 "metadata": {
  "kernelspec": {
   "display_name": "Python 3 (ipykernel)",
   "language": "python",
   "name": "python3"
  },
  "language_info": {
   "codemirror_mode": {
    "name": "ipython",
    "version": 3
   },
   "file_extension": ".py",
   "mimetype": "text/x-python",
   "name": "python",
   "nbconvert_exporter": "python",
   "pygments_lexer": "ipython3",
   "version": "3.9.11"
  }
 },
 "nbformat": 4,
 "nbformat_minor": 5
}
