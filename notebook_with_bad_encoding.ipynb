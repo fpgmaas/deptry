{"cells": [{"cell_type": "code", "source": ["print('\u00e6\u00f8\u00e5')"]}], "metadata": {}, "nbformat": 4, "nbformat_minor": 2}
