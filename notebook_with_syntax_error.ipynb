{"cells": [{"cell_type": "code", "source": ["import n invalid_syntax:::\n"]}], "metadata": {}, "nbformat": 4, "nbformat_minor": 2}
